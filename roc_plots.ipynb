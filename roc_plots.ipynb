{
  "nbformat": 4,
  "nbformat_minor": 0,
  "metadata": {
    "colab": {
      "name": "roc_plots.ipynb",
      "provenance": [],
      "mount_file_id": "1PTsQaWOUyY7deqCT7PQ4qhi1uF4X5e7O",
      "authorship_tag": "ABX9TyOkr5INNABK8kJzLaqenZHH",
      "include_colab_link": true
    },
    "kernelspec": {
      "name": "python3",
      "display_name": "Python 3"
    },
    "language_info": {
      "name": "python"
    }
  },
  "cells": [
    {
      "cell_type": "markdown",
      "metadata": {
        "id": "view-in-github",
        "colab_type": "text"
      },
      "source": [
        "<a href=\"https://colab.research.google.com/github/nikita-0209/ml_quark_gluon/blob/main/roc_plots.ipynb\" target=\"_parent\"><img src=\"https://colab.research.google.com/assets/colab-badge.svg\" alt=\"Open In Colab\"/></a>"
      ]
    },
    {
      "cell_type": "code",
      "metadata": {
        "id": "88tzuzEGnKhc"
      },
      "source": [
        "import os\n",
        "import sys\n",
        "import numpy as np\n",
        "import random\n",
        "from sklearn import metrics\n",
        "from scipy import interp\n",
        "from sklearn import metrics, model_selection, linear_model, discriminant_analysis"
      ],
      "execution_count": null,
      "outputs": []
    },
    {
      "cell_type": "code",
      "metadata": {
        "colab": {
          "base_uri": "https://localhost:8080/"
        },
        "id": "Pq3R-5s4uYDW",
        "outputId": "24bb4522-f83f-4f2b-99f4-ea6ee8e3f64b"
      },
      "source": [
        "!apt install texlive-fonts-recommended texlive-fonts-extra cm-super dvipng"
      ],
      "execution_count": null,
      "outputs": [
        {
          "output_type": "stream",
          "name": "stdout",
          "text": [
            "Reading package lists... Done\n",
            "Building dependency tree       \n",
            "Reading state information... Done\n",
            "cm-super is already the newest version (0.3.4-11).\n",
            "dvipng is already the newest version (1.15-1).\n",
            "texlive-fonts-extra is already the newest version (2017.20180305-2).\n",
            "texlive-fonts-recommended is already the newest version (2017.20180305-1).\n",
            "0 upgraded, 0 newly installed, 0 to remove and 37 not upgraded.\n"
          ]
        }
      ]
    },
    {
      "cell_type": "code",
      "metadata": {
        "id": "78sr0AahnRny"
      },
      "source": [
        "from matplotlib import pyplot as plt\n",
        "import colorsys\n",
        "import matplotlib\n",
        "from matplotlib.lines import Line2D\n",
        "from matplotlib.font_manager import FontProperties"
      ],
      "execution_count": null,
      "outputs": []
    },
    {
      "cell_type": "code",
      "metadata": {
        "id": "_7CBdsELnTfp"
      },
      "source": [
        "labelfont = FontProperties()\n",
        "labelfont.set_family('serif')\n",
        "labelfont.set_name('Times New Roman')\n",
        "labelfont.set_size(14)\n",
        "\n",
        "axislabelfont = FontProperties()\n",
        "axislabelfont.set_family('serif')\n",
        "axislabelfont.set_name('Times New Roman')\n",
        "axislabelfont.set_size(22)\n",
        "\n",
        "tickfont = FontProperties()\n",
        "tickfont.set_family('serif')\n",
        "tickfont.set_name('Times New Roman')\n",
        "tickfont.set_size(16)\n",
        "\n",
        "tickfont_legend = FontProperties()\n",
        "tickfont_legend.set_family('serif')\n",
        "tickfont_legend.set_name('Times New Roman')\n",
        "tickfont_legend.set_size(14)\n",
        "\n",
        "axisfontsize = 16\n",
        "labelfontsize = 16\n",
        "\n",
        "plt.rcParams[\"font.family\"] = \"Times New Roman\"\n",
        "plt.rcParams[\"mathtext.default\"] = \"rm\"\n",
        "plt.rcParams['text.usetex'] = True"
      ],
      "execution_count": null,
      "outputs": []
    },
    {
      "cell_type": "code",
      "metadata": {
        "id": "2sExWV6lneQu"
      },
      "source": [
        "nopid_dir = \"/content/drive/MyDrive/lhc/roc_curve_data/nopid/\""
      ],
      "execution_count": null,
      "outputs": []
    },
    {
      "cell_type": "code",
      "metadata": {
        "id": "-5FNhFwvn4R6"
      },
      "source": [
        "scr_jetclr_sqhinge = np.load( nopid_dir+\"jetclr_sqhinge_scores.npy\" )\n",
        "lbs_jetclr_sqhinge = np.load( nopid_dir+\"jetclr_sqhinge_labels.npy\" )\n",
        "scr_jetclr_lda = np.load( nopid_dir+\"jetclr_lda_scores.npy\" )\n",
        "lbs_jetclr_lda = np.load( nopid_dir+\"jetclr_lda_labels.npy\" )\n",
        "scr_jetclr_log = np.load( nopid_dir+\"jetclr_log_scores.npy\" )\n",
        "lbs_jetclr_log = np.load( nopid_dir+\"jetclr_log_labels.npy\" )\n",
        "scr_jetclr_hinge = np.load( nopid_dir+\"jetclr_hinge_scores.npy\" )\n",
        "lbs_jetclr_hinge = np.load( nopid_dir+\"jetclr_hinge_labels.npy\" )"
      ],
      "execution_count": null,
      "outputs": []
    },
    {
      "cell_type": "code",
      "metadata": {
        "colab": {
          "base_uri": "https://localhost:8080/"
        },
        "id": "5K-w5Yn-oksW",
        "outputId": "3097629f-ea38-4800-f8d0-a73c9687918c"
      },
      "source": [
        "fpr_sqhinge = []\n",
        "tpr_sqhinge = []\n",
        "auc_sqhinge = []\n",
        "\n",
        "scr = list( scr_jetclr_sqhinge )\n",
        "lbs = list( lbs_jetclr_sqhinge )\n",
        "fpr_int = []\n",
        "mean_tpr = np.linspace(0, 1, 1000)\n",
        "#for i in range(len( scr )):\n",
        "auc = metrics.roc_auc_score( lbs, [j for j in scr ] )\n",
        "fpr, tpr, thresholds = metrics.roc_curve( lbs, [j for j in scr ] )\n",
        "fpr_int.append( interp( mean_tpr, tpr, fpr ) )\n",
        "fpr_int[-1][0] = 0.0\n",
        "fpr_sqhinge.append(fpr)\n",
        "tpr_sqhinge.append(tpr)\n",
        "auc_sqhinge.append(auc)\n",
        "    \n",
        "fpr_mean_sqhinge = np.mean(fpr_int, axis=0)\n",
        "fpr_mean_sqhinge[-1] = 1.0\n",
        "tpr_mean_sqhinge = mean_tpr\n",
        "auc_mean_sqhinge = np.mean( auc_sqhinge )\n",
        "auc_std_sqhinge = np.std( auc_sqhinge )"
      ],
      "execution_count": null,
      "outputs": [
        {
          "output_type": "stream",
          "name": "stderr",
          "text": [
            "/usr/local/lib/python3.7/dist-packages/ipykernel_launcher.py:12: DeprecationWarning: scipy.interp is deprecated and will be removed in SciPy 2.0.0, use numpy.interp instead\n",
            "  if sys.path[0] == '':\n"
          ]
        }
      ]
    },
    {
      "cell_type": "code",
      "metadata": {
        "colab": {
          "base_uri": "https://localhost:8080/"
        },
        "id": "4puTUm37BDEJ",
        "outputId": "5c93c936-522c-4941-91f3-925ac93ae6c2"
      },
      "source": [
        "fpr_hinge = []\n",
        "tpr_hinge = []\n",
        "auc_hinge = []\n",
        "\n",
        "scr = list( scr_jetclr_hinge )\n",
        "lbs = list( lbs_jetclr_hinge )\n",
        "fpr_int = []\n",
        "mean_tpr = np.linspace(0, 1, 1000)\n",
        "#for i in range(len( scr )):\n",
        "auc = metrics.roc_auc_score( lbs, [j for j in scr ] )\n",
        "fpr, tpr, thresholds = metrics.roc_curve( lbs, [j for j in scr ] )\n",
        "fpr_int.append( interp( mean_tpr, tpr, fpr ) )\n",
        "fpr_int[-1][0] = 0.0\n",
        "fpr_hinge.append(fpr)\n",
        "tpr_hinge.append(tpr)\n",
        "auc_hinge.append(auc)\n",
        "    \n",
        "fpr_mean_hinge = np.mean(fpr_int, axis=0)\n",
        "fpr_mean_hinge[-1] = 1.0\n",
        "tpr_mean_hinge = mean_tpr\n",
        "auc_mean_hinge = np.mean( auc_hinge )\n",
        "auc_std_hinge = np.std( auc_hinge )"
      ],
      "execution_count": null,
      "outputs": [
        {
          "output_type": "stream",
          "name": "stderr",
          "text": [
            "/usr/local/lib/python3.7/dist-packages/ipykernel_launcher.py:12: DeprecationWarning: scipy.interp is deprecated and will be removed in SciPy 2.0.0, use numpy.interp instead\n",
            "  if sys.path[0] == '':\n"
          ]
        }
      ]
    },
    {
      "cell_type": "code",
      "metadata": {
        "colab": {
          "base_uri": "https://localhost:8080/"
        },
        "id": "zXupG_b_ox6o",
        "outputId": "04a906e9-3482-448b-e1ef-bdcab2624377"
      },
      "source": [
        "fpr_lda = []\n",
        "tpr_lda = []\n",
        "auc_lda = []\n",
        "\n",
        "scr = list( scr_jetclr_lda )\n",
        "lbs = list( lbs_jetclr_lda )\n",
        "fpr_int = []\n",
        "mean_tpr = np.linspace(0, 1, 1000)\n",
        "#for i in range(len( scr )):\n",
        "auc = metrics.roc_auc_score( lbs, [j for j in scr ] )\n",
        "fpr, tpr, thresholds = metrics.roc_curve( lbs, [j for j in scr ] )\n",
        "fpr_int.append( interp( mean_tpr, tpr, fpr ) )\n",
        "fpr_int[-1][0] = 0.0\n",
        "fpr_lda.append(fpr)\n",
        "tpr_lda.append(tpr)\n",
        "auc_lda.append(auc)\n",
        "    \n",
        "fpr_mean_lda = np.mean(fpr_int, axis=0)\n",
        "fpr_mean_lda[-1] = 1.0\n",
        "tpr_mean_lda = mean_tpr\n",
        "auc_mean_lda = np.mean( auc_lda )\n",
        "auc_std_lda = np.std( auc_lda )"
      ],
      "execution_count": null,
      "outputs": [
        {
          "output_type": "stream",
          "name": "stderr",
          "text": [
            "/usr/local/lib/python3.7/dist-packages/ipykernel_launcher.py:12: DeprecationWarning: scipy.interp is deprecated and will be removed in SciPy 2.0.0, use numpy.interp instead\n",
            "  if sys.path[0] == '':\n"
          ]
        }
      ]
    },
    {
      "cell_type": "code",
      "metadata": {
        "colab": {
          "base_uri": "https://localhost:8080/"
        },
        "id": "8qHK6-9irx4z",
        "outputId": "cb752687-eb07-49cb-f957-ae05db28771e"
      },
      "source": [
        "fpr_log = []\n",
        "tpr_log = []\n",
        "auc_log = []\n",
        "\n",
        "scr = list( scr_jetclr_log )\n",
        "lbs = list( lbs_jetclr_log )\n",
        "fpr_int = []\n",
        "mean_tpr = np.linspace(0, 1, 1000)\n",
        "#for i in range(len( scr )):\n",
        "auc = metrics.roc_auc_score( lbs, [j for j in scr ] )\n",
        "fpr, tpr, thresholds = metrics.roc_curve( lbs, [j for j in scr ] )\n",
        "fpr_int.append( interp( mean_tpr, tpr, fpr ) )\n",
        "fpr_int[-1][0] = 0.0\n",
        "fpr_log.append(fpr)\n",
        "tpr_log.append(tpr)\n",
        "auc_log.append(auc)\n",
        "    \n",
        "fpr_mean_log = np.mean(fpr_int, axis=0)\n",
        "fpr_mean_log[-1] = 1.0\n",
        "tpr_mean_log = mean_tpr\n",
        "auc_mean_log = np.mean( auc_log )\n",
        "auc_std_log = np.std( auc_log )"
      ],
      "execution_count": null,
      "outputs": [
        {
          "output_type": "stream",
          "name": "stderr",
          "text": [
            "/usr/local/lib/python3.7/dist-packages/ipykernel_launcher.py:12: DeprecationWarning: scipy.interp is deprecated and will be removed in SciPy 2.0.0, use numpy.interp instead\n",
            "  if sys.path[0] == '':\n"
          ]
        }
      ]
    },
    {
      "cell_type": "code",
      "metadata": {
        "id": "L4ipe9sasOUS"
      },
      "source": [
        "#legend_labels = [ \"JetCLR (rot.+p$_T$)\", \"EFPs ($d\\!\\leq\\! 7$)\", \"JetCLR (rot.)\", \"Jet images\", \"JetCLR (no aug.)\", \"Constituents\" ]\n",
        "legend_labels = [ \"Squared Hinge\", \"LDA\", \"Log\", \"Hinge\" ]\n",
        "#cc = matplotlib.cm.get_cmap( 'inferno' )\n",
        "cc = matplotlib.cm.get_cmap( 'Set1' )\n",
        "nn = len( legend_labels )\n",
        "#cls = [ cc(10+i*int(210/nn)) for i in range(int(nn)) ]  # the int() is required for the cmap...\n",
        "cls = [ cc(0.001+i*(0.5/nn)) for i in range(int(nn)) ]  # the int() is required for the cmap..."
      ],
      "execution_count": null,
      "outputs": []
    },
    {
      "cell_type": "code",
      "metadata": {
        "colab": {
          "base_uri": "https://localhost:8080/"
        },
        "id": "d1uBRx8LuIj-",
        "outputId": "5c21bc6a-8e7b-4acc-932c-6e99c97ab814"
      },
      "source": [
        "!whereis latex"
      ],
      "execution_count": null,
      "outputs": [
        {
          "output_type": "stream",
          "name": "stdout",
          "text": [
            "latex: /usr/bin/latex /usr/share/man/man1/latex.1.gz\n"
          ]
        }
      ]
    },
    {
      "cell_type": "code",
      "metadata": {
        "colab": {
          "base_uri": "https://localhost:8080/",
          "height": 570
        },
        "id": "QsA0aV-0saqk",
        "outputId": "61f09a67-403f-43a6-9f72-6a892d28e34b"
      },
      "source": [
        "fig, axs = plt.subplots( 1, 1, figsize=(6.0,5.4) )\n",
        "\n",
        "axs.plot( tpr_mean_sqhinge, np.nan_to_num(1/fpr_mean_sqhinge), alpha=1.0, color=cls[0], linewidth=1.5, label=legend_labels[0]+\", AUC: \"+str(format(np.round(auc_mean_sqhinge,2), '.2f'))+\"$\\pm$\"+str(format(np.round(auc_std_sqhinge,4), '.4f')) )\n",
        "axs.plot( tpr_mean_lda, np.nan_to_num(1/fpr_mean_lda), alpha=1.0, color=cls[1], linewidth=1.5, label=legend_labels[1]+\", AUC: \"+str(format(np.round(auc_mean_lda,2), '.2f'))+\"$\\pm$\"+str(format(np.round(auc_std_lda,4), '.4f')) )\n",
        "axs.plot( tpr_mean_log, np.nan_to_num(1/fpr_mean_log), alpha=1.0, color=cls[2], linewidth=1.5, label=legend_labels[1]+\", AUC: \"+str(format(np.round(auc_mean_log,2), '.2f'))+\"$\\pm$\"+str(format(np.round(auc_std_log,4), '.4f')) )\n",
        "axs.plot( tpr_mean_hinge, np.nan_to_num(1/fpr_mean_hinge), alpha=1.0, color=cls[3], linewidth=1.5, label=legend_labels[1]+\", AUC: \"+str(format(np.round(auc_mean_hinge,2), '.2f'))+\"$\\pm$\"+str(format(np.round(auc_std_hinge,4), '.4f')) )\n",
        "\n",
        "# axs.fill_between( np.linspace(0, 1, 1000), 1/(fpr_mean_sqhinge-fpr_std_sqhinge), 1/(fpr_mean_sqhinge+fpr_std_sqhinge), alpha=0.2, linewidth=0.0, color=cls[0])\n",
        "\n",
        "axs.grid( which='both', alpha=0.5 )\n",
        "    \n",
        "axs.set_xlabel( \"quark-jet efficiency ($\\epsilon_s$)\", fontproperties=axislabelfont )\n",
        "axs.set_ylabel( \"inverse gluon-jet mistagging rate $(\\epsilon_b^{-1})$\", fontproperties=axislabelfont )\n",
        "\n",
        "axs.set_yscale('log')\n",
        "\n",
        "axs.set_xlim((-0.02,1.02))\n",
        "\n",
        "axs.set_xticks( [ np.round(i*0.2,1) for i in range(6) ] )\n",
        "axs.set_xticklabels( [ np.round(i*0.2,1) for i in range(6) ] , fontproperties=tickfont )\n",
        "\n",
        "#axs.set_ylim((1,100000))\n",
        "axs.set_ylim((1,1000))\n",
        "\n",
        "#axs.set_yticks( [1,10,100,1000,10000] )\n",
        "#axs.set_yticklabels( [ \"$10^{}$\".format(i) for i in [0,1,2,3,4] ] , fontproperties=tickfont, va='top' )\n",
        "axs.set_yticks( [1,10,100] )\n",
        "axs.set_yticklabels( [ \"$10^{}$\".format(i) for i in [0,1,2] ] , fontproperties=tickfont, va='top' )\n",
        "\n",
        "#axs.legend( loc=\"upper right\", prop=labelfont )\n",
        "\n",
        "axs.text( 0.4, 100, legend_labels[0]+\" \\n AUC: \"+str(format(np.round(auc_mean_sqhinge,3), '.3f')), \n",
        "         va='bottom', ha='left', fontproperties=tickfont_legend, color=cls[0] )\n",
        "\n",
        "axs.text( 0.10, 20, legend_labels[1]+\" \\n AUC: \"+str(format(np.round(auc_mean_lda,3), '.3f')), \n",
        "         va='bottom', ha='left', fontproperties=tickfont_legend, color=cls[1] )\n",
        "\n",
        "axs.text( 0.35, 50, legend_labels[2]+\" \\n AUC: \"+str(format(np.round(auc_mean_log,3), '.3f')), \n",
        "         va='bottom', ha='left', fontproperties=tickfont_legend, color=cls[2] )\n",
        "axs.text( 0.10, 10, legend_labels[3]+\" \\n AUC: \"+str(format(np.round(auc_mean_hinge,3), '.3f')), \n",
        "         va='bottom', ha='left', fontproperties=tickfont_legend, color=cls[3] )\n",
        "\n",
        "# axs.text( 0.2, 25, legend_labels[2], \n",
        "#          va='bottom', ha='left', fontproperties=tickfont_legend, color=cls[2] )\n",
        "\n",
        "# axs.text( 0.08, 7, legend_labels[3], \n",
        "#          va='bottom', ha='left', fontproperties=tickfont_legend, color=cls[3] )\n",
        "\n",
        "#axs.text( 0.0, 1.5,  \"Linear classifier test\", va='bottom', ha='left', fontproperties=tickfont, bbox=dict(facecolor='white', alpha=0.8) )\n",
        "axs.text( 0.05, 1.5,  \"Quark Gluon \\n Linear classifier test\", va='bottom', ha='left', fontproperties=tickfont, bbox=dict(facecolor='white', alpha=0.8) )\n",
        "\n",
        "fig.tight_layout()\n",
        "fig.savefig( \"jetclr_toptagging_ROC_official_money.pdf\", bbox_inches='tight' )"
      ],
      "execution_count": null,
      "outputs": [
        {
          "output_type": "stream",
          "name": "stderr",
          "text": [
            "/usr/local/lib/python3.7/dist-packages/ipykernel_launcher.py:3: RuntimeWarning: divide by zero encountered in true_divide\n",
            "  This is separate from the ipykernel package so we can avoid doing imports until\n",
            "/usr/local/lib/python3.7/dist-packages/ipykernel_launcher.py:4: RuntimeWarning: divide by zero encountered in true_divide\n",
            "  after removing the cwd from sys.path.\n",
            "/usr/local/lib/python3.7/dist-packages/ipykernel_launcher.py:5: RuntimeWarning: divide by zero encountered in true_divide\n",
            "  \"\"\"\n",
            "/usr/local/lib/python3.7/dist-packages/ipykernel_launcher.py:6: RuntimeWarning: divide by zero encountered in true_divide\n",
            "  \n",
            "/usr/local/lib/python3.7/dist-packages/numpy/ma/core.py:6849: RuntimeWarning: overflow encountered in power\n",
            "  result = np.where(m, fa, umath.power(fa, fb)).view(basetype)\n"
          ]
        },
        {
          "output_type": "display_data",
          "data": {
            "image/png": "[encoded data removed]",
            "text/plain": [
              "<Figure size 432x388.8 with 1 Axes>"
            ]
          },
          "metadata": {
            "needs_background": "light"
          }
        }
      ]
    },
    {
      "cell_type": "code",
      "metadata": {
        "id": "Dm2de3rEtkl9"
      },
      "source": [
        ""
      ],
      "execution_count": null,
      "outputs": []
    }
  ]
}