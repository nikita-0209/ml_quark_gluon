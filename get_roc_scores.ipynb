{
  "nbformat": 4,
  "nbformat_minor": 0,
  "metadata": {
    "colab": {
      "name": "get_roc_scores.ipynb",
      "provenance": [],
      "collapsed_sections": [],
      "authorship_tag": "ABX9TyMT9cTTYzHKOyYPUGThPvaS",
      "include_colab_link": true
    },
    "kernelspec": {
      "name": "python3",
      "display_name": "Python 3"
    },
    "language_info": {
      "name": "python"
    }
  },
  "cells": [
    {
      "cell_type": "markdown",
      "metadata": {
        "id": "view-in-github",
        "colab_type": "text"
      },
      "source": [
        "<a href=\"https://colab.research.google.com/github/nikita-0209/ml_quark_gluon/blob/main/get_roc_scores.ipynb\" target=\"_parent\"><img src=\"https://colab.research.google.com/assets/colab-badge.svg\" alt=\"Open In Colab\"/></a>"
      ]
    },
    {
      "cell_type": "code",
      "metadata": {
        "colab": {
          "base_uri": "https://localhost:8080/"
        },
        "id": "ymviuNRWgleq",
        "outputId": "2dfda8ed-445e-42d2-d8a3-efe35e64f8af"
      },
      "source": [
        "from google.colab import drive\n",
        "drive.mount('/content/drive')"
      ],
      "execution_count": null,
      "outputs": [
        {
          "output_type": "stream",
          "name": "stdout",
          "text": [
            "Drive already mounted at /content/drive; to attempt to forcibly remount, call drive.mount(\"/content/drive\", force_remount=True).\n"
          ]
        }
      ]
    },
    {
      "cell_type": "code",
      "metadata": {
        "id": "f8U08QSvg9Xy"
      },
      "source": [
        "import numpy as np\n",
        "import matplotlib.pyplot as plt\n",
        "from sklearn import metrics, model_selection, linear_model, discriminant_analysis"
      ],
      "execution_count": null,
      "outputs": []
    },
    {
      "cell_type": "code",
      "metadata": {
        "id": "TvhzIc4Igc8r"
      },
      "source": [
        "def get_perf_stats(x, y, clf):\n",
        "    acc = clf.score(x, y)\n",
        "    measures = clf.decision_function(x)\n",
        "    labels = y\n",
        "    measures = np.nan_to_num( measures )\n",
        "    auc = metrics.roc_auc_score( labels, measures )\n",
        "    fpr,tpr,thresholds = metrics.roc_curve( labels, measures )\n",
        "    fpr2 = [ fpr[i] for i in range( len( fpr ) ) if tpr[i]>=0.5]\n",
        "    tpr2 = [ tpr[i] for i in range( len( tpr ) ) if tpr[i]>=0.5]\n",
        "    try:\n",
        "        imtafe = np.nan_to_num( 1 / fpr2[ list( tpr2 ).index( find_nearest( list( tpr2 ), 0.5 ) ) ] )\n",
        "    except:\n",
        "        imtafe = 1\n",
        "    return acc, auc, imtafe\n",
        "    \n",
        "def find_nearest( array, value ):\n",
        "    array = np.asarray( array )\n",
        "    idx = ( np.abs( array-value ) ).argmin()\n",
        "    return array[idx]\n",
        "\n",
        "def k_fold_evaluation(x, y, loss, n_splits=10, alpha=0.0001, eta0=1):\n",
        "    x_norm = x - x.mean(0, keepdims=True)\n",
        "    x_norm /= x_norm.std(0, keepdims=True)\n",
        "    kf = model_selection.KFold(n_splits=n_splits, shuffle=True)\n",
        "    result = []\n",
        "    #test_scores = []\n",
        "    #test_labels = []\n",
        "    for train, test in kf.split(x_norm):\n",
        "        if loss in ['log', 'hinge', 'squared_hinge']:\n",
        "            clf = linear_model.SGDClassifier(loss=loss, penalty='l2', alpha=alpha, learning_rate='adaptive', eta0=eta0, max_iter=200)\n",
        "        elif loss == 'lda':\n",
        "            clf = discriminant_analysis.LinearDiscriminantAnalysis(solver='lsqr')\n",
        "        else:\n",
        "            raise RuntimeError\n",
        "        clf.fit(x_norm[train], y[train])\n",
        "        result.append(get_perf_stats(x_norm[test], y[test], clf))\n",
        "        #test_scores.append( x_norm[test] )\n",
        "        #test_labels.append( y[test] )\n",
        "    result = np.array(result).mean(0)\n",
        "    #return result, test_scores, test_labels\n",
        "    return result\n",
        "\n",
        "def k_fold_evaluation_detailed(x, y, loss, n_splits=10, alpha=0.0001, eta0=1):\n",
        "    x_norm = x - x.mean(0, keepdims=True)\n",
        "    x_norm /= x_norm.std(0, keepdims=True)\n",
        "    kf = model_selection.KFold(n_splits=n_splits, shuffle=True)\n",
        "    result = []\n",
        "    test_scores = []\n",
        "    test_labels = []\n",
        "    for train, test in kf.split(x_norm):\n",
        "        if loss in ['log', 'hinge', 'squared_hinge']:\n",
        "            clf = linear_model.SGDClassifier(loss=loss, penalty='l2', alpha=alpha, learning_rate='adaptive', eta0=eta0, max_iter=200)\n",
        "        elif loss == 'lda':\n",
        "            clf = discriminant_analysis.LinearDiscriminantAnalysis(solver='lsqr')\n",
        "        else:\n",
        "            raise RuntimeError\n",
        "        clf.fit(x_norm[train], y[train])\n",
        "        result.append(get_perf_stats(x_norm[test], y[test], clf))\n",
        "        test_scores.append( clf.decision_function( x_norm[test] ) )\n",
        "        test_labels.append( y[test] )\n",
        "    result = np.array(result).mean(0)\n",
        "    return result, test_scores, test_labels\n",
        "    #return result"
      ],
      "execution_count": null,
      "outputs": []
    },
    {
      "cell_type": "code",
      "metadata": {
        "id": "Oi25pXGBgmGK"
      },
      "source": [
        "labels = np.load(\"/content/drive/MyDrive/lhc/nopid_rTrue_pFalse_tTrue_tw1.0_cf_False_maskTrue_cmaskFalse_nc_100_MD_1000_DF_1000_NH_4_NL_4_NHL_2_temp_0.10_opt_adam_bsize_128_lr_0.00005_SB_1.0_N_1jetclr_labs_1.npy\")"
      ],
      "execution_count": null,
      "outputs": []
    },
    {
      "cell_type": "code",
      "metadata": {
        "id": "39VVS9B9g65d"
      },
      "source": [
        "reps = np.load(\"/content/drive/MyDrive/lhc/nopid_rTrue_pFalse_tTrue_tw1.0_cf_False_maskTrue_cmaskFalse_nc_100_MD_1000_DF_1000_NH_4_NL_4_NHL_2_temp_0.10_opt_adam_bsize_128_lr_0.00005_SB_1.0_N_1jetclr_reps_1.npy\")[:, 0]"
      ],
      "execution_count": null,
      "outputs": []
    },
    {
      "cell_type": "markdown",
      "metadata": {
        "id": "lcS1puPzhosv"
      },
      "source": [
        "# Squared Hinge"
      ]
    },
    {
      "cell_type": "code",
      "metadata": {
        "colab": {
          "base_uri": "https://localhost:8080/"
        },
        "id": "C4lgjNKdg_2u",
        "outputId": "119019b9-655f-4c46-9043-e36c49f3cb18"
      },
      "source": [
        "%%time\n",
        "alpha = 0.0001\n",
        "resx1, scoresx1, labelsx1 = k_fold_evaluation_detailed(reps, labels, 'squared_hinge', alpha=alpha, eta0=0.0001)\n",
        "print(f'acc = {resx1[0]:.5f}, auc = {resx1[1]:.5f}, imtafe = {resx1[2]:.5f}')"
      ],
      "execution_count": null,
      "outputs": [
        {
          "output_type": "stream",
          "name": "stdout",
          "text": [
            "CPU times: user 1min 37s, sys: 1.87 s, total: 1min 39s\n",
            "Wall time: 1min 36s\n"
          ]
        }
      ]
    },
    {
      "cell_type": "code",
      "metadata": {
        "colab": {
          "base_uri": "https://localhost:8080/"
        },
        "id": "Mtw0qluIiYVX",
        "outputId": "d7518d4d-7537-4b7c-837a-56cce48fecc9"
      },
      "source": [
        "print(f'acc = {resx1[0]:.5f}, auc = {resx1[1]:.5f}, imtafe = {resx1[2]:.5f}')"
      ],
      "execution_count": null,
      "outputs": [
        {
          "output_type": "stream",
          "name": "stdout",
          "text": [
            "acc = 0.77179, auc = 0.84396, imtafe = 17.71581\n"
          ]
        }
      ]
    },
    {
      "cell_type": "code",
      "metadata": {
        "id": "AENfIkW6h-nh"
      },
      "source": [
        "np.save( \"/content/drive/MyDrive/lhc/roc_curve_data/nopid/jetclr_sqhinge_scores.npy\", np.reshape( np.array( scoresx1 ), -1 ) )\n",
        "np.save( \"/content/drive/MyDrive/lhc/roc_curve_data/nopid/jetclr_sqhinge_labels.npy\", np.reshape( np.array( labelsx1 ), -1 ) )"
      ],
      "execution_count": null,
      "outputs": []
    },
    {
      "cell_type": "markdown",
      "metadata": {
        "id": "VHuUlbgHilWZ"
      },
      "source": [
        "# Log"
      ]
    },
    {
      "cell_type": "code",
      "metadata": {
        "colab": {
          "base_uri": "https://localhost:8080/"
        },
        "id": "PYpcrfgRik0j",
        "outputId": "9fe18621-e72e-4d64-843d-8b7c60a54055"
      },
      "source": [
        "%%time\n",
        "alpha = 0.0001\n",
        "resx1, scoresx1, labelsx1 = k_fold_evaluation_detailed(reps, labels, 'log', alpha=alpha, eta0=0.01)\n",
        "print(f'acc = {resx1[0]:.5f}, auc = {resx1[1]:.5f}, imtafe = {resx1[2]:.5f}')"
      ],
      "execution_count": null,
      "outputs": [
        {
          "output_type": "stream",
          "name": "stdout",
          "text": [
            "acc = 0.77256, auc = 0.84447, imtafe = 18.05863\n",
            "CPU times: user 3min 5s, sys: 1.82 s, total: 3min 7s\n",
            "Wall time: 3min 5s\n"
          ]
        }
      ]
    },
    {
      "cell_type": "code",
      "metadata": {
        "id": "Ao_F0srcivLK"
      },
      "source": [
        "np.save( \"/content/drive/MyDrive/lhc/roc_curve_data/nopid/jetclr_log_scores.npy\", np.reshape( np.array( scoresx1 ), -1 ) )\n",
        "np.save( \"/content/drive/MyDrive/lhc/roc_curve_data/nopid/jetclr_log_labels.npy\", np.reshape( np.array( labelsx1 ), -1 ) )"
      ],
      "execution_count": null,
      "outputs": []
    },
    {
      "cell_type": "markdown",
      "metadata": {
        "id": "_kKLar-Ki0yM"
      },
      "source": [
        "# LDA"
      ]
    },
    {
      "cell_type": "code",
      "metadata": {
        "colab": {
          "base_uri": "https://localhost:8080/"
        },
        "id": "2Yq_NOSTi0Ev",
        "outputId": "8b959822-f8b8-439d-ea22-c5995ae54811"
      },
      "source": [
        "%%time\n",
        "loss = 'lda'\n",
        "resx3, scoresx3, labelsx3 = k_fold_evaluation_detailed(reps, labels, 'lda')\n",
        "print(f'acc = {resx3[0]:.5f}, auc = {resx3[1]:.5f}, imtafe = {resx3[2]:.5f}')"
      ],
      "execution_count": null,
      "outputs": [
        {
          "output_type": "stream",
          "name": "stdout",
          "text": [
            "acc = 0.77060, auc = 0.84244, imtafe = 17.50099\n",
            "CPU times: user 2min 38s, sys: 10.9 s, total: 2min 49s\n",
            "Wall time: 2min 9s\n"
          ]
        }
      ]
    },
    {
      "cell_type": "code",
      "metadata": {
        "id": "kSXPyVR0jHs8"
      },
      "source": [
        "np.save( \"/content/drive/MyDrive/lhc/roc_curve_data/nopid/jetclr_lda_scores.npy\", np.reshape( np.array( scoresx3 ), -1 ) )\n",
        "np.save( \"/content/drive/MyDrive/lhc/roc_curve_data/nopid/jetclr_lda_labels.npy\", np.reshape( np.array( labelsx3 ), -1 ) )"
      ],
      "execution_count": null,
      "outputs": []
    },
    {
      "cell_type": "markdown",
      "metadata": {
        "id": "XKAX815w_1-m"
      },
      "source": [
        "# Hinge"
      ]
    },
    {
      "cell_type": "code",
      "metadata": {
        "id": "huABVN1zjLct",
        "colab": {
          "base_uri": "https://localhost:8080/"
        },
        "outputId": "2456c194-e823-4baf-e73e-de6fb67d534d"
      },
      "source": [
        "%%time\n",
        "alpha = 0.000001\n",
        "resx4, scoresx4, labelsx4 = k_fold_evaluation_detailed(reps, labels, 'hinge', alpha=alpha, eta0=0.0001)\n",
        "print(f'acc = {resx4[0]:.5f}, auc = {resx4[1]:.5f}, imtafe = {resx4[2]:.5f}')"
      ],
      "execution_count": null,
      "outputs": [
        {
          "output_type": "stream",
          "name": "stdout",
          "text": [
            "acc = 0.76422, auc = 0.83812, imtafe = 16.36567\n",
            "CPU times: user 1min 24s, sys: 1.78 s, total: 1min 26s\n",
            "Wall time: 1min 23s\n"
          ]
        }
      ]
    },
    {
      "cell_type": "code",
      "metadata": {
        "id": "bBLMO0sEAJLt"
      },
      "source": [
        "np.save( \"/content/drive/MyDrive/lhc/roc_curve_data/nopid/jetclr_hinge_scores.npy\", np.reshape( np.array( scoresx4 ), -1 ) )\n",
        "np.save( \"/content/drive/MyDrive/lhc/roc_curve_data/nopid/jetclr_hinge_labels.npy\", np.reshape( np.array( labelsx4 ), -1 ) )"
      ],
      "execution_count": null,
      "outputs": []
    },
    {
      "cell_type": "code",
      "metadata": {
        "id": "cxnUT8-6AZwe"
      },
      "source": [
        ""
      ],
      "execution_count": null,
      "outputs": []
    }
  ]
}